{
 "cells": [
  {
   "cell_type": "markdown",
   "id": "ffacff85",
   "metadata": {},
   "source": [
    "## Homework 5\n",
    "Cody Costa\\\n",
    "9/5/2025\n",
    "\n",
    "<hr>"
   ]
  },
  {
   "cell_type": "markdown",
   "id": "138c703e",
   "metadata": {},
   "source": [
    "# Problem 2\n",
    "\n",
    "updating CNN weights"
   ]
  },
  {
   "cell_type": "code",
   "execution_count": 2,
   "id": "aa4f28b4",
   "metadata": {},
   "outputs": [
    {
     "name": "stdout",
     "output_type": "stream",
     "text": [
      "Forward Pass Outputs: [0.7342393  0.77839477]\n",
      "\n",
      "New input --> hidden weights: \n",
      "[[0.24840054 0.3732406  0.49360217]\n",
      " [0.12025271 0.61977798 0.10601085]]\n",
      "\n",
      "New hidden --> output weights: \n",
      "[[0.51814252 0.7659666  0.27746691]\n",
      " [0.30055365 0.80948237 0.38729179]]\n"
     ]
    }
   ],
   "source": [
    "import numpy as np\n",
    "\n",
    "# define sigmoid and its derivative function\n",
    "\n",
    "def sigmoid(x):\n",
    "    return 1 / (1 + np.exp(-x))\n",
    "\n",
    "def sigmoid_derivative(y):\n",
    "\n",
    "    # y = sigmoid(x)\n",
    "    return y * (1 - y)\n",
    "\n",
    "\n",
    "# starting data\n",
    "\n",
    "x = np.array([0.25, 0.275])     # given inputs\n",
    "t = np.array([0.875, 0.125])    # target outputs\n",
    "\n",
    "\n",
    "# initial weights\n",
    "\n",
    "# 1. Input --> Hidden\n",
    "\n",
    "W_IH = np.array([\n",
    "    [0.25, 0.375, 0.5],     # h1\n",
    "    [0.125, 0.625, 0.125]   # h2\n",
    "])\n",
    "\n",
    "# 2. Hidden --> Output\n",
    "\n",
    "W_HO = np.array([\n",
    "    [0.5, 0.75, 0.25],      # o1\n",
    "    [0.375, 0.875, 0.5]     # o2\n",
    "])\n",
    "\n",
    "\n",
    "# Forward Pass\n",
    "\n",
    "# add the bias inputs\n",
    "x_bias = np.append(x, 1)\n",
    "\n",
    "# hidden layer\n",
    "net_h = W_IH @ x_bias\n",
    "h = sigmoid(net_h)\n",
    "h_bias = np.append(h, 1)\n",
    "\n",
    "# output layer\n",
    "net_o = W_HO @ h_bias\n",
    "o = sigmoid(net_o)\n",
    "\n",
    "print(f'Forward Pass Outputs: {o}\\n')\n",
    "\n",
    "\n",
    "# Backward Pass\n",
    "\n",
    "# output delta\n",
    "delta_o = (t - o) * sigmoid_derivative(o)\n",
    "\n",
    "# hidden delta\n",
    "delta_h = (W_HO[:, :-1].T @ delta_o) * sigmoid_derivative(h)\n",
    "\n",
    "\n",
    "# Update Weights\n",
    "\n",
    "# Hidden --> Output\n",
    "dW_HO = np.outer(delta_o, h_bias)\n",
    "\n",
    "# Input --> Hidden\n",
    "dW_IH = np.outer(delta_h, x_bias)\n",
    "\n",
    "# apply update\n",
    "W_HO_new = W_HO + dW_HO\n",
    "W_IH_new = W_IH + dW_IH\n",
    "\n",
    "\n",
    "print(f'New input --> hidden weights: \\n{W_IH_new}\\n')\n",
    "print(f'New hidden --> output weights: \\n{W_HO_new}')"
   ]
  },
  {
   "cell_type": "markdown",
   "id": "0f99c332",
   "metadata": {},
   "source": [
    "<hr>\n",
    "\n",
    "# Problem 3\n",
    "\n",
    "Animals-2 simplification"
   ]
  },
  {
   "cell_type": "markdown",
   "id": "e39691ae",
   "metadata": {},
   "source": [
    "### Step 1: Filter Dataset to Only Cats and Chickens"
   ]
  },
  {
   "cell_type": "code",
   "execution_count": null,
   "id": "6c355d83",
   "metadata": {},
   "outputs": [
    {
     "name": "stdout",
     "output_type": "stream",
     "text": [
      "dataset shape:  [(4766, 128, 128, 3), (4766,)]\n",
      "uniques:    [0 1]\n"
     ]
    }
   ],
   "source": [
    "import os\n",
    "import cv2\n",
    "import numpy as np\n",
    "from sklearn.utils import shuffle\n",
    "from sklearn.model_selection import train_test_split\n",
    "\n",
    "# animals data directory\n",
    "dataset_dir = f'{os.path.expanduser('~')}\\\\Downloads\\\\archive\\\\raw-img'\n",
    "# print(dataset_dir)\n",
    "\n",
    "selected_classes = {\n",
    "    'cat': 0,\n",
    "    'chicken': 1\n",
    "}\n",
    "\n",
    "# function to parse, load, and resize img files in dataset folder\n",
    "def load_img(directory, classes):\n",
    "    Images = []\n",
    "    Labels = []\n",
    "\n",
    "    for label_name, label_code in classes.items():\n",
    "        folder = os.path.join(directory, label_name)\n",
    "\n",
    "        for image_file in os.listdir(folder):\n",
    "            try:\n",
    "                img = cv2.imread(os.path.join(folder, image_file))\n",
    "                img = cv2.resize(img, (128, 128))\n",
    "                Images.append(img)\n",
    "                Labels.append(label_code)\n",
    "\n",
    "            except:\n",
    "                continue\n",
    "\n",
    "    return shuffle(np.array(Images), np.array(Labels), random_state=42)\n",
    "\n",
    "\n",
    "# Load cats and chickens images\n",
    "x, y = load_img(dataset_dir, selected_classes)\n",
    "\n",
    "print(f'dataset shape:  [{x.shape}, {y.shape}]')\n",
    "print(f'uniques:    {np.unique(y)}')"
   ]
  },
  {
   "cell_type": "markdown",
   "id": "97479699",
   "metadata": {},
   "source": [
    "### Step 2: Normalize / split data"
   ]
  },
  {
   "cell_type": "code",
   "execution_count": 5,
   "id": "efaf968c",
   "metadata": {},
   "outputs": [
    {
     "name": "stdout",
     "output_type": "stream",
     "text": [
      "Training set:   (3336, 128, 128, 3), (3336,)\n",
      "Validation set: (715, 128, 128, 3), (715,)\n",
      "Testing set:    (715, 128, 128, 3), (715,)\n"
     ]
    }
   ],
   "source": [
    "x = x.astype('float32') / 255\n",
    "\n",
    "# split data into training, validation, and testing\n",
    "x_train, x_temp, y_train, y_temp = train_test_split(x, y, test_size=0.3, random_state=42)\n",
    "x_val, x_test, y_val, y_test = train_test_split(x_temp, y_temp, test_size=0.5, random_state=42)\n",
    "\n",
    "\n",
    "print(f'Training set:   {x_train.shape}, {y_train.shape}')\n",
    "print(f'Validation set: {x_val.shape}, {y_val.shape}')\n",
    "print(f'Testing set:    {x_test.shape}, {y_test.shape}')"
   ]
  },
  {
   "cell_type": "markdown",
   "id": "9355d3a9",
   "metadata": {},
   "source": [
    "### Step 3: Train the CNN with 3 convolutional layers"
   ]
  },
  {
   "cell_type": "code",
   "execution_count": null,
   "id": "5b449582",
   "metadata": {},
   "outputs": [
    {
     "name": "stderr",
     "output_type": "stream",
     "text": [
      "c:\\Users\\Cody Costa\\OneDrive\\Desktop\\SJSU-MSE\\EE263\\.venv\\Lib\\site-packages\\keras\\src\\layers\\convolutional\\base_conv.py:113: UserWarning: Do not pass an `input_shape`/`input_dim` argument to a layer. When using Sequential models, prefer using an `Input(shape)` object as the first layer in the model instead.\n",
      "  super().__init__(activity_regularizer=activity_regularizer, **kwargs)\n"
     ]
    },
    {
     "name": "stdout",
     "output_type": "stream",
     "text": [
      "Epoch 1/10\n",
      "\u001b[1m105/105\u001b[0m \u001b[32m━━━━━━━━━━━━━━━━━━━━\u001b[0m\u001b[37m\u001b[0m \u001b[1m15s\u001b[0m 131ms/step - accuracy: 0.7230 - loss: 0.5395 - val_accuracy: 0.8308 - val_loss: 0.3969\n",
      "Epoch 2/10\n",
      "\u001b[1m105/105\u001b[0m \u001b[32m━━━━━━━━━━━━━━━━━━━━\u001b[0m\u001b[37m\u001b[0m \u001b[1m13s\u001b[0m 126ms/step - accuracy: 0.8348 - loss: 0.3954 - val_accuracy: 0.8280 - val_loss: 0.4028\n",
      "Epoch 3/10\n",
      "\u001b[1m105/105\u001b[0m \u001b[32m━━━━━━━━━━━━━━━━━━━━\u001b[0m\u001b[37m\u001b[0m \u001b[1m13s\u001b[0m 126ms/step - accuracy: 0.8561 - loss: 0.3509 - val_accuracy: 0.8476 - val_loss: 0.3707\n",
      "Epoch 4/10\n",
      "\u001b[1m105/105\u001b[0m \u001b[32m━━━━━━━━━━━━━━━━━━━━\u001b[0m\u001b[37m\u001b[0m \u001b[1m13s\u001b[0m 127ms/step - accuracy: 0.8777 - loss: 0.2953 - val_accuracy: 0.8881 - val_loss: 0.2907\n",
      "Epoch 5/10\n",
      "\u001b[1m105/105\u001b[0m \u001b[32m━━━━━━━━━━━━━━━━━━━━\u001b[0m\u001b[37m\u001b[0m \u001b[1m13s\u001b[0m 125ms/step - accuracy: 0.8966 - loss: 0.2589 - val_accuracy: 0.8629 - val_loss: 0.3175\n",
      "Epoch 6/10\n",
      "\u001b[1m105/105\u001b[0m \u001b[32m━━━━━━━━━━━━━━━━━━━━\u001b[0m\u001b[37m\u001b[0m \u001b[1m13s\u001b[0m 126ms/step - accuracy: 0.9125 - loss: 0.2151 - val_accuracy: 0.8951 - val_loss: 0.2787\n",
      "Epoch 7/10\n",
      "\u001b[1m105/105\u001b[0m \u001b[32m━━━━━━━━━━━━━━━━━━━━\u001b[0m\u001b[37m\u001b[0m \u001b[1m13s\u001b[0m 126ms/step - accuracy: 0.9293 - loss: 0.1851 - val_accuracy: 0.8979 - val_loss: 0.2607\n",
      "Epoch 8/10\n",
      "\u001b[1m105/105\u001b[0m \u001b[32m━━━━━━━━━━━━━━━━━━━━\u001b[0m\u001b[37m\u001b[0m \u001b[1m13s\u001b[0m 128ms/step - accuracy: 0.9412 - loss: 0.1530 - val_accuracy: 0.8965 - val_loss: 0.2494\n",
      "Epoch 9/10\n",
      "\u001b[1m105/105\u001b[0m \u001b[32m━━━━━━━━━━━━━━━━━━━━\u001b[0m\u001b[37m\u001b[0m \u001b[1m13s\u001b[0m 128ms/step - accuracy: 0.9595 - loss: 0.1184 - val_accuracy: 0.9021 - val_loss: 0.2709\n",
      "Epoch 10/10\n",
      "\u001b[1m105/105\u001b[0m \u001b[32m━━━━━━━━━━━━━━━━━━━━\u001b[0m\u001b[37m\u001b[0m \u001b[1m13s\u001b[0m 128ms/step - accuracy: 0.9670 - loss: 0.0951 - val_accuracy: 0.8839 - val_loss: 0.3306\n"
     ]
    }
   ],
   "source": [
    "from tensorflow import keras\n",
    "from tensorflow.keras.layers import Conv2D, MaxPooling2D, Dropout, Flatten, Dense\n",
    "\n",
    "model = keras.models.Sequential()\n",
    "\n",
    "model.add(Conv2D(32, (3,3), activation='relu', input_shape=(128,128,3), padding='same'))\n",
    "model.add(MaxPooling2D(pool_size=(2,2)))\n",
    "\n",
    "model.add(Conv2D(64, (3,3), activation='relu', padding='same'))\n",
    "model.add(MaxPooling2D(pool_size=(2,2)))\n",
    "\n",
    "# added conv layer\n",
    "model.add(Conv2D(128, (3,3), activation='relu', padding='same'))  \n",
    "model.add(MaxPooling2D(pool_size=(2,2)))\n",
    "\n",
    "\n",
    "model.add(Dropout(0.25))\n",
    "model.add(Flatten())\n",
    "model.add(Dense(1, activation='sigmoid'))  # binary output\n",
    "\n",
    "model.compile(optimizer='adam',\n",
    "              loss='binary_crossentropy',\n",
    "              metrics=['accuracy'])\n",
    "\n",
    "history = model.fit(x_train, y_train,\n",
    "                    batch_size=32,\n",
    "                    epochs=10,\n",
    "                    validation_data=(x_val, y_val))"
   ]
  },
  {
   "cell_type": "markdown",
   "id": "a36cbca8",
   "metadata": {},
   "source": [
    "### Step 4: Report Accuracy"
   ]
  },
  {
   "cell_type": "code",
   "execution_count": 7,
   "id": "0f5e43e3",
   "metadata": {},
   "outputs": [
    {
     "name": "stdout",
     "output_type": "stream",
     "text": [
      "\u001b[1m23/23\u001b[0m \u001b[32m━━━━━━━━━━━━━━━━━━━━\u001b[0m\u001b[37m\u001b[0m \u001b[1m1s\u001b[0m 33ms/step - accuracy: 0.8979 - loss: 0.2736\n",
      "Test Accuracy: 0.898\n"
     ]
    }
   ],
   "source": [
    "loss, acc = model.evaluate(x_test, y_test, verbose=1)\n",
    "print(f\"Test Accuracy: {acc:.3f}\")\n"
   ]
  }
 ],
 "metadata": {
  "kernelspec": {
   "display_name": ".venv",
   "language": "python",
   "name": "python3"
  },
  "language_info": {
   "codemirror_mode": {
    "name": "ipython",
    "version": 3
   },
   "file_extension": ".py",
   "mimetype": "text/x-python",
   "name": "python",
   "nbconvert_exporter": "python",
   "pygments_lexer": "ipython3",
   "version": "3.12.3"
  }
 },
 "nbformat": 4,
 "nbformat_minor": 5
}
