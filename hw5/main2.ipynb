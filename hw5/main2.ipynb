{
 "cells": [
  {
   "cell_type": "markdown",
   "id": "ffacff85",
   "metadata": {},
   "source": [
    "## Homework 5\n",
    "Cody Costa\\\n",
    "9/5/2025\n",
    "\n",
    "<hr>"
   ]
  },
  {
   "cell_type": "markdown",
   "id": "138c703e",
   "metadata": {},
   "source": [
    "# Problem 2\n",
    "\n",
    "updating CNN weights"
   ]
  },
  {
   "cell_type": "code",
   "execution_count": 2,
   "id": "aa4f28b4",
   "metadata": {},
   "outputs": [
    {
     "name": "stdout",
     "output_type": "stream",
     "text": [
      "Forward Pass Outputs: [0.7342393  0.77839477]\n",
      "\n",
      "New input --> hidden weights: \n",
      "[[0.24840054 0.3732406  0.49360217]\n",
      " [0.12025271 0.61977798 0.10601085]]\n",
      "\n",
      "New hidden --> output weights: \n",
      "[[0.51814252 0.7659666  0.27746691]\n",
      " [0.30055365 0.80948237 0.38729179]]\n"
     ]
    }
   ],
   "source": [
    "import numpy as np\n",
    "\n",
    "# define sigmoid and its derivative function\n",
    "\n",
    "def sigmoid(x):\n",
    "    return 1 / (1 + np.exp(-x))\n",
    "\n",
    "def sigmoid_derivative(y):\n",
    "\n",
    "    # y = sigmoid(x)\n",
    "    return y * (1 - y)\n",
    "\n",
    "\n",
    "# starting data\n",
    "\n",
    "x = np.array([0.25, 0.275])     # given inputs\n",
    "t = np.array([0.875, 0.125])    # target outputs\n",
    "\n",
    "\n",
    "# initial weights\n",
    "\n",
    "# 1. Input --> Hidden\n",
    "\n",
    "W_IH = np.array([\n",
    "    [0.25, 0.375, 0.5],     # h1\n",
    "    [0.125, 0.625, 0.125]   # h2\n",
    "])\n",
    "\n",
    "# 2. Hidden --> Output\n",
    "\n",
    "W_HO = np.array([\n",
    "    [0.5, 0.75, 0.25],      # o1\n",
    "    [0.375, 0.875, 0.5]     # o2\n",
    "])\n",
    "\n",
    "\n",
    "# Forward Pass\n",
    "\n",
    "# add the bias inputs\n",
    "x_bias = np.append(x, 1)\n",
    "\n",
    "# hidden layer\n",
    "net_h = W_IH @ x_bias\n",
    "h = sigmoid(net_h)\n",
    "h_bias = np.append(h, 1)\n",
    "\n",
    "# output layer\n",
    "net_o = W_HO @ h_bias\n",
    "o = sigmoid(net_o)\n",
    "\n",
    "print(f'Forward Pass Outputs: {o}\\n')\n",
    "\n",
    "\n",
    "# Backward Pass\n",
    "\n",
    "# output delta\n",
    "delta_o = (t - o) * sigmoid_derivative(o)\n",
    "\n",
    "# hidden delta\n",
    "delta_h = (W_HO[:, :-1].T @ delta_o) * sigmoid_derivative(h)\n",
    "\n",
    "\n",
    "# Update Weights\n",
    "\n",
    "# Hidden --> Output\n",
    "dW_HO = np.outer(delta_o, h_bias)\n",
    "\n",
    "# Input --> Hidden\n",
    "dW_IH = np.outer(delta_h, x_bias)\n",
    "\n",
    "# apply update\n",
    "W_HO_new = W_HO + dW_HO\n",
    "W_IH_new = W_IH + dW_IH\n",
    "\n",
    "\n",
    "print(f'New input --> hidden weights: \\n{W_IH_new}\\n')\n",
    "print(f'New hidden --> output weights: \\n{W_HO_new}')"
   ]
  },
  {
   "cell_type": "markdown",
   "id": "0f99c332",
   "metadata": {},
   "source": [
    "<hr>\n",
    "\n",
    "# Problem 3\n",
    "\n",
    "Animals-6 simplification to only cat and chicken"
   ]
  },
  {
   "cell_type": "markdown",
   "id": "e39691ae",
   "metadata": {},
   "source": [
    "### Step 1: Filter Dataset to Only Cats and Chickens"
   ]
  },
  {
   "cell_type": "code",
   "execution_count": 2,
   "id": "6c355d83",
   "metadata": {},
   "outputs": [
    {
     "name": "stdout",
     "output_type": "stream",
     "text": [
      "dataset shape:  [(4766, 128, 128, 3), (4766,)]\n",
      "uniques:    [0 1]\n"
     ]
    }
   ],
   "source": [
    "import os\n",
    "import cv2\n",
    "import numpy as np\n",
    "from sklearn.utils import shuffle\n",
    "from sklearn.model_selection import train_test_split\n",
    "\n",
    "# animals data directory\n",
    "dataset_dir = f'{os.path.expanduser('~')}\\\\Downloads\\\\archive\\\\raw-img'\n",
    "# print(dataset_dir)\n",
    "\n",
    "selected_classes = {\n",
    "    'cat': 0,\n",
    "    'chicken': 1\n",
    "}\n",
    "\n",
    "# function to parse, load, and resize img files in dataset folder\n",
    "def load_img(directory, classes):\n",
    "    Images = []\n",
    "    Labels = []\n",
    "\n",
    "    for label_name, label_code in classes.items():\n",
    "        folder = os.path.join(directory, label_name)\n",
    "\n",
    "        for image_file in os.listdir(folder):\n",
    "            try:\n",
    "                img = cv2.imread(os.path.join(folder, image_file))\n",
    "                img = cv2.resize(img, (128, 128))\n",
    "                Images.append(img)\n",
    "                Labels.append(label_code)\n",
    "\n",
    "            except:\n",
    "                continue\n",
    "\n",
    "    return shuffle(np.array(Images), np.array(Labels), random_state=42)\n",
    "\n",
    "\n",
    "# Load cats and chickens images\n",
    "x, y = load_img(dataset_dir, selected_classes)\n",
    "\n",
    "print(f'dataset shape:  [{x.shape}, {y.shape}]')\n",
    "print(f'uniques:    {np.unique(y)}')"
   ]
  },
  {
   "cell_type": "markdown",
   "id": "97479699",
   "metadata": {},
   "source": [
    "### Step 2: Normalize / split data"
   ]
  },
  {
   "cell_type": "code",
   "execution_count": 3,
   "id": "efaf968c",
   "metadata": {},
   "outputs": [
    {
     "name": "stdout",
     "output_type": "stream",
     "text": [
      "Training set:   (3336, 128, 128, 3), (3336,)\n",
      "Validation set: (715, 128, 128, 3), (715,)\n",
      "Testing set:    (715, 128, 128, 3), (715,)\n"
     ]
    }
   ],
   "source": [
    "x = x.astype('float32') / 255\n",
    "\n",
    "# split data into training, validation, and testing\n",
    "x_train, x_temp, y_train, y_temp = train_test_split(x, y, test_size=0.3, random_state=42)\n",
    "x_val, x_test, y_val, y_test = train_test_split(x_temp, y_temp, test_size=0.5, random_state=42)\n",
    "\n",
    "\n",
    "print(f'Training set:   {x_train.shape}, {y_train.shape}')\n",
    "print(f'Validation set: {x_val.shape}, {y_val.shape}')\n",
    "print(f'Testing set:    {x_test.shape}, {y_test.shape}')"
   ]
  },
  {
   "cell_type": "markdown",
   "id": "9355d3a9",
   "metadata": {},
   "source": [
    "### Step 3: Train the CNN with 3 convolutional layers"
   ]
  },
  {
   "cell_type": "code",
   "execution_count": null,
   "id": "5b449582",
   "metadata": {},
   "outputs": [
    {
     "name": "stdout",
     "output_type": "stream",
     "text": [
      "Epoch 1/10\n",
      "\u001b[1m105/105\u001b[0m \u001b[32m━━━━━━━━━━━━━━━━━━━━\u001b[0m\u001b[37m\u001b[0m \u001b[1m16s\u001b[0m 139ms/step - accuracy: 0.7260 - loss: 0.5358 - val_accuracy: 0.7888 - val_loss: 0.4857\n",
      "Epoch 2/10\n",
      "\u001b[1m105/105\u001b[0m \u001b[32m━━━━━━━━━━━━━━━━━━━━\u001b[0m\u001b[37m\u001b[0m \u001b[1m14s\u001b[0m 134ms/step - accuracy: 0.8336 - loss: 0.3887 - val_accuracy: 0.8378 - val_loss: 0.3630\n",
      "Epoch 3/10\n",
      "\u001b[1m105/105\u001b[0m \u001b[32m━━━━━━━━━━━━━━━━━━━━\u001b[0m\u001b[37m\u001b[0m \u001b[1m15s\u001b[0m 139ms/step - accuracy: 0.8591 - loss: 0.3482 - val_accuracy: 0.8643 - val_loss: 0.3218\n",
      "Epoch 4/10\n",
      "\u001b[1m105/105\u001b[0m \u001b[32m━━━━━━━━━━━━━━━━━━━━\u001b[0m\u001b[37m\u001b[0m \u001b[1m14s\u001b[0m 134ms/step - accuracy: 0.8909 - loss: 0.2839 - val_accuracy: 0.8699 - val_loss: 0.3072\n",
      "Epoch 5/10\n",
      "\u001b[1m105/105\u001b[0m \u001b[32m━━━━━━━━━━━━━━━━━━━━\u001b[0m\u001b[37m\u001b[0m \u001b[1m14s\u001b[0m 132ms/step - accuracy: 0.8969 - loss: 0.2586 - val_accuracy: 0.8671 - val_loss: 0.2995\n",
      "Epoch 6/10\n",
      "\u001b[1m105/105\u001b[0m \u001b[32m━━━━━━━━━━━━━━━━━━━━\u001b[0m\u001b[37m\u001b[0m \u001b[1m14s\u001b[0m 136ms/step - accuracy: 0.9122 - loss: 0.2301 - val_accuracy: 0.8769 - val_loss: 0.2717\n",
      "Epoch 7/10\n",
      "\u001b[1m105/105\u001b[0m \u001b[32m━━━━━━━━━━━━━━━━━━━━\u001b[0m\u001b[37m\u001b[0m \u001b[1m14s\u001b[0m 134ms/step - accuracy: 0.9257 - loss: 0.1855 - val_accuracy: 0.8839 - val_loss: 0.2812\n",
      "Epoch 8/10\n",
      "\u001b[1m105/105\u001b[0m \u001b[32m━━━━━━━━━━━━━━━━━━━━\u001b[0m\u001b[37m\u001b[0m \u001b[1m14s\u001b[0m 132ms/step - accuracy: 0.9299 - loss: 0.1890 - val_accuracy: 0.8713 - val_loss: 0.2999\n",
      "Epoch 9/10\n",
      "\u001b[1m105/105\u001b[0m \u001b[32m━━━━━━━━━━━━━━━━━━━━\u001b[0m\u001b[37m\u001b[0m \u001b[1m14s\u001b[0m 136ms/step - accuracy: 0.9499 - loss: 0.1395 - val_accuracy: 0.8839 - val_loss: 0.2746\n",
      "Epoch 10/10\n",
      "\u001b[1m105/105\u001b[0m \u001b[32m━━━━━━━━━━━━━━━━━━━━\u001b[0m\u001b[37m\u001b[0m \u001b[1m14s\u001b[0m 130ms/step - accuracy: 0.9658 - loss: 0.1008 - val_accuracy: 0.9119 - val_loss: 0.2433\n"
     ]
    }
   ],
   "source": [
    "from tensorflow import keras\n",
    "from keras.layers import Conv2D, MaxPooling2D, Dropout, Flatten, Dense\n",
    "\n",
    "model = keras.models.Sequential()\n",
    "\n",
    "model.add(keras.Input(shape=(128, 128, 3)))\n",
    "\n",
    "model.add(Conv2D(32, (3,3), activation='relu', padding='same'))\n",
    "model.add(MaxPooling2D(pool_size=(2,2)))\n",
    "\n",
    "model.add(Conv2D(64, (3,3), activation='relu', padding='same'))\n",
    "model.add(MaxPooling2D(pool_size=(2,2)))\n",
    "\n",
    "# added conv layer\n",
    "model.add(Conv2D(128, (3,3), activation='relu', padding='same'))  \n",
    "model.add(MaxPooling2D(pool_size=(2,2)))\n",
    "\n",
    "\n",
    "model.add(Dropout(0.25))\n",
    "model.add(Flatten())\n",
    "model.add(Dense(1, activation='sigmoid'))  # binary output\n",
    "\n",
    "model.compile(optimizer='adam',\n",
    "              loss='binary_crossentropy',\n",
    "              metrics=['accuracy'])\n",
    "\n",
    "history = model.fit(x_train, y_train,\n",
    "                    batch_size=32,\n",
    "                    epochs=10,\n",
    "                    validation_data=(x_val, y_val))"
   ]
  },
  {
   "cell_type": "markdown",
   "id": "a36cbca8",
   "metadata": {},
   "source": [
    "### Step 4: Report Accuracy"
   ]
  },
  {
   "cell_type": "code",
   "execution_count": 6,
   "id": "0f5e43e3",
   "metadata": {},
   "outputs": [
    {
     "name": "stdout",
     "output_type": "stream",
     "text": [
      "\u001b[1m23/23\u001b[0m \u001b[32m━━━━━━━━━━━━━━━━━━━━\u001b[0m\u001b[37m\u001b[0m \u001b[1m1s\u001b[0m 32ms/step - accuracy: 0.9049 - loss: 0.2330\n",
      "Test Accuracy: 0.905\n"
     ]
    }
   ],
   "source": [
    "loss, acc = model.evaluate(x_test, y_test, verbose=1)\n",
    "print(f\"Test Accuracy: {acc:.3f}\")\n"
   ]
  },
  {
   "cell_type": "markdown",
   "id": "60b0dea5",
   "metadata": {},
   "source": [
    "<hr>\n",
    "\n",
    "# Problem 4\n",
    "\n",
    "Improvements to Animals-6"
   ]
  },
  {
   "cell_type": "markdown",
   "id": "69298c70",
   "metadata": {},
   "source": [
    "### Step 1: Preprocessing; Include all 6 animal classes"
   ]
  },
  {
   "cell_type": "code",
   "execution_count": 47,
   "id": "cce307ca",
   "metadata": {},
   "outputs": [
    {
     "name": "stdout",
     "output_type": "stream",
     "text": [
      "dataset shape:  [(15768, 128, 128, 3), (15768,)]\n",
      "uniques:    [0 1 2 3 4 5]\n"
     ]
    }
   ],
   "source": [
    "import os\n",
    "import cv2\n",
    "import numpy as np\n",
    "from sklearn.model_selection import train_test_split\n",
    "from sklearn.utils import shuffle\n",
    "\n",
    "# animals data directory\n",
    "dataset_dir = f'{os.path.expanduser('~')}\\\\Downloads\\\\archive\\\\raw-img'\n",
    "\n",
    "selected_classes = {\n",
    "    \"butterfly\": 0,\n",
    "    \"cat\": 1,\n",
    "    \"chicken\": 2,\n",
    "    \"elephant\": 3,\n",
    "    \"horse\": 4,\n",
    "    \"spider\": 5\n",
    "}\n",
    "\n",
    "\n",
    "''' We will be reusing the load_img function defined in Problem 3 '''\n",
    "\n",
    "x, y = load_img(dataset_dir, selected_classes)\n",
    "\n",
    "print(f'dataset shape:  [{x.shape}, {y.shape}]')\n",
    "print(f'uniques:    {np.unique(y)}')"
   ]
  },
  {
   "cell_type": "markdown",
   "id": "bf5ad830",
   "metadata": {},
   "source": [
    "### Step 2: Normalize / split data"
   ]
  },
  {
   "cell_type": "code",
   "execution_count": 48,
   "id": "d9706100",
   "metadata": {},
   "outputs": [
    {
     "name": "stdout",
     "output_type": "stream",
     "text": [
      "Training set:   (11037, 128, 128, 3), (11037,)\n",
      "Validation set: (2365, 128, 128, 3), (2365,)\n",
      "Testing set:    (2366, 128, 128, 3), (2366,)\n"
     ]
    }
   ],
   "source": [
    "x = x.astype('float32') / 255\n",
    "\n",
    "# split data into training, validation, and testing\n",
    "x_train, x_temp, y_train, y_temp = train_test_split(x, y, test_size=0.3, random_state=42)\n",
    "x_val, x_test, y_val, y_test = train_test_split(x_temp, y_temp, test_size=0.5, random_state=42)\n",
    "\n",
    "\n",
    "print(f'Training set:   {x_train.shape}, {y_train.shape}')\n",
    "print(f'Validation set: {x_val.shape}, {y_val.shape}')\n",
    "print(f'Testing set:    {x_test.shape}, {y_test.shape}')"
   ]
  },
  {
   "cell_type": "markdown",
   "id": "7d9ba4fa",
   "metadata": {},
   "source": [
    "### Step 3: Stronger CNN model\n",
    "\n",
    "we'll use some deeper architecture methods for this iteration:\n",
    "1. 3 block system (VGG style)\n",
    "2. Dropouts for regularization\n",
    "3. Batch Normalization for more stable training"
   ]
  },
  {
   "cell_type": "code",
   "execution_count": 43,
   "id": "ad73696c",
   "metadata": {},
   "outputs": [],
   "source": [
    "from tensorflow import keras\n",
    "from keras.layers import Conv2D, MaxPooling2D, Dropout, Flatten, Dense, BatchNormalization\n",
    "\n",
    "model = keras.models.Sequential()\n",
    "\n",
    "model.add(keras.Input(shape=(128,128,3)))\n",
    "\n",
    "# Conv block 1\n",
    "model.add(Conv2D(32, (3,3), activation='relu', padding='same'))\n",
    "model.add(BatchNormalization())\n",
    "model.add(MaxPooling2D(pool_size=(2,2)))\n",
    "\n",
    "# Conv block 2\n",
    "model.add(Conv2D(64, (3,3), activation='relu', padding='same'))\n",
    "model.add(BatchNormalization())\n",
    "model.add(MaxPooling2D(pool_size=(2,2)))\n",
    "\n",
    "# Conv block 3\n",
    "model.add(Conv2D(128, (3,3), activation='relu', padding='same'))\n",
    "model.add(BatchNormalization())\n",
    "model.add(MaxPooling2D(pool_size=(2,2)))\n",
    "model.add(Dropout(0.3))\n",
    "\n",
    "# Conv block 4 (optional but helps performance)\n",
    "model.add(Conv2D(256, (3,3), activation='relu', padding='same'))\n",
    "model.add(BatchNormalization())\n",
    "model.add(MaxPooling2D(pool_size=(2,2)))\n",
    "model.add(Dropout(0.4))\n",
    "\n",
    "# Dense classifier\n",
    "model.add(Flatten())\n",
    "model.add(Dense(128, activation='relu'))\n",
    "model.add(Dropout(0.5))\n",
    "model.add(Dense(6, activation='softmax'))  # 6 classes\n",
    "\n",
    "# Compile\n",
    "model.compile(optimizer='adam',\n",
    "              loss='sparse_categorical_crossentropy',\n",
    "              metrics=['accuracy'])\n",
    "\n",
    "\n",
    "from keras.callbacks import EarlyStopping\n",
    "\n",
    "early_stop = EarlyStopping(\n",
    "    monitor='val_loss',        # what metric to monitor\n",
    "    patience=5,                # wait 5 epochs with no improvement\n",
    "    restore_best_weights=True  # use the best weights seen\n",
    ")\n"
   ]
  },
  {
   "cell_type": "markdown",
   "id": "2761edf7",
   "metadata": {},
   "source": [
    "### Step 4: Data Augmentation and Training"
   ]
  },
  {
   "cell_type": "code",
   "execution_count": 44,
   "id": "5ae317ee",
   "metadata": {},
   "outputs": [
    {
     "name": "stdout",
     "output_type": "stream",
     "text": [
      "Epoch 1/50\n",
      "\u001b[1m92/92\u001b[0m \u001b[32m━━━━━━━━━━━━━━━━━━━━\u001b[0m\u001b[37m\u001b[0m \u001b[1m75s\u001b[0m 783ms/step - accuracy: 0.4950 - loss: 1.7412 - val_accuracy: 0.2314 - val_loss: 2.9243\n",
      "Epoch 2/50\n",
      "\u001b[1m92/92\u001b[0m \u001b[32m━━━━━━━━━━━━━━━━━━━━\u001b[0m\u001b[37m\u001b[0m \u001b[1m72s\u001b[0m 779ms/step - accuracy: 0.6210 - loss: 0.9911 - val_accuracy: 0.1962 - val_loss: 5.3595\n",
      "Epoch 3/50\n",
      "\u001b[1m92/92\u001b[0m \u001b[32m━━━━━━━━━━━━━━━━━━━━\u001b[0m\u001b[37m\u001b[0m \u001b[1m74s\u001b[0m 802ms/step - accuracy: 0.6529 - loss: 0.8983 - val_accuracy: 0.4251 - val_loss: 2.5780\n",
      "Epoch 4/50\n",
      "\u001b[1m92/92\u001b[0m \u001b[32m━━━━━━━━━━━━━━━━━━━━\u001b[0m\u001b[37m\u001b[0m \u001b[1m73s\u001b[0m 788ms/step - accuracy: 0.6809 - loss: 0.8309 - val_accuracy: 0.4916 - val_loss: 1.5515\n",
      "Epoch 5/50\n",
      "\u001b[1m92/92\u001b[0m \u001b[32m━━━━━━━━━━━━━━━━━━━━\u001b[0m\u001b[37m\u001b[0m \u001b[1m72s\u001b[0m 783ms/step - accuracy: 0.6933 - loss: 0.8216 - val_accuracy: 0.6317 - val_loss: 1.2276\n",
      "Epoch 6/50\n",
      "\u001b[1m92/92\u001b[0m \u001b[32m━━━━━━━━━━━━━━━━━━━━\u001b[0m\u001b[37m\u001b[0m \u001b[1m72s\u001b[0m 785ms/step - accuracy: 0.7243 - loss: 0.7203 - val_accuracy: 0.6173 - val_loss: 1.0629\n",
      "Epoch 7/50\n",
      "\u001b[1m92/92\u001b[0m \u001b[32m━━━━━━━━━━━━━━━━━━━━\u001b[0m\u001b[37m\u001b[0m \u001b[1m72s\u001b[0m 780ms/step - accuracy: 0.6988 - loss: 0.8060 - val_accuracy: 0.4412 - val_loss: 1.1506\n",
      "Epoch 8/50\n",
      "\u001b[1m92/92\u001b[0m \u001b[32m━━━━━━━━━━━━━━━━━━━━\u001b[0m\u001b[37m\u001b[0m \u001b[1m72s\u001b[0m 778ms/step - accuracy: 0.7408 - loss: 0.6936 - val_accuracy: 0.6005 - val_loss: 1.7076\n",
      "Epoch 9/50\n",
      "\u001b[1m92/92\u001b[0m \u001b[32m━━━━━━━━━━━━━━━━━━━━\u001b[0m\u001b[37m\u001b[0m \u001b[1m71s\u001b[0m 775ms/step - accuracy: 0.7525 - loss: 0.6919 - val_accuracy: 0.7278 - val_loss: 0.7757\n",
      "Epoch 10/50\n",
      "\u001b[1m92/92\u001b[0m \u001b[32m━━━━━━━━━━━━━━━━━━━━\u001b[0m\u001b[37m\u001b[0m \u001b[1m72s\u001b[0m 780ms/step - accuracy: 0.7872 - loss: 0.6035 - val_accuracy: 0.7982 - val_loss: 0.5737\n",
      "Epoch 11/50\n",
      "\u001b[1m92/92\u001b[0m \u001b[32m━━━━━━━━━━━━━━━━━━━━\u001b[0m\u001b[37m\u001b[0m \u001b[1m72s\u001b[0m 778ms/step - accuracy: 0.7997 - loss: 0.5554 - val_accuracy: 0.7358 - val_loss: 0.8367\n",
      "Epoch 12/50\n",
      "\u001b[1m92/92\u001b[0m \u001b[32m━━━━━━━━━━━━━━━━━━━━\u001b[0m\u001b[37m\u001b[0m \u001b[1m72s\u001b[0m 779ms/step - accuracy: 0.8098 - loss: 0.5319 - val_accuracy: 0.8399 - val_loss: 0.4658\n",
      "Epoch 13/50\n",
      "\u001b[1m92/92\u001b[0m \u001b[32m━━━━━━━━━━━━━━━━━━━━\u001b[0m\u001b[37m\u001b[0m \u001b[1m72s\u001b[0m 778ms/step - accuracy: 0.8127 - loss: 0.5116 - val_accuracy: 0.8207 - val_loss: 0.5258\n",
      "Epoch 14/50\n",
      "\u001b[1m92/92\u001b[0m \u001b[32m━━━━━━━━━━━━━━━━━━━━\u001b[0m\u001b[37m\u001b[0m \u001b[1m72s\u001b[0m 778ms/step - accuracy: 0.8290 - loss: 0.4821 - val_accuracy: 0.8487 - val_loss: 0.4575\n",
      "Epoch 15/50\n",
      "\u001b[1m92/92\u001b[0m \u001b[32m━━━━━━━━━━━━━━━━━━━━\u001b[0m\u001b[37m\u001b[0m \u001b[1m72s\u001b[0m 780ms/step - accuracy: 0.8328 - loss: 0.4537 - val_accuracy: 0.5508 - val_loss: 2.1742\n",
      "Epoch 16/50\n",
      "\u001b[1m92/92\u001b[0m \u001b[32m━━━━━━━━━━━━━━━━━━━━\u001b[0m\u001b[37m\u001b[0m \u001b[1m72s\u001b[0m 781ms/step - accuracy: 0.8354 - loss: 0.4593 - val_accuracy: 0.8223 - val_loss: 0.5820\n",
      "Epoch 17/50\n",
      "\u001b[1m92/92\u001b[0m \u001b[32m━━━━━━━━━━━━━━━━━━━━\u001b[0m\u001b[37m\u001b[0m \u001b[1m72s\u001b[0m 786ms/step - accuracy: 0.8532 - loss: 0.4196 - val_accuracy: 0.8791 - val_loss: 0.3616\n",
      "Epoch 18/50\n",
      "\u001b[1m92/92\u001b[0m \u001b[32m━━━━━━━━━━━━━━━━━━━━\u001b[0m\u001b[37m\u001b[0m \u001b[1m72s\u001b[0m 780ms/step - accuracy: 0.8198 - loss: 0.5062 - val_accuracy: 0.6301 - val_loss: 1.4645\n",
      "Epoch 19/50\n",
      "\u001b[1m92/92\u001b[0m \u001b[32m━━━━━━━━━━━━━━━━━━━━\u001b[0m\u001b[37m\u001b[0m \u001b[1m71s\u001b[0m 774ms/step - accuracy: 0.8443 - loss: 0.4387 - val_accuracy: 0.8647 - val_loss: 0.3869\n",
      "Epoch 20/50\n",
      "\u001b[1m92/92\u001b[0m \u001b[32m━━━━━━━━━━━━━━━━━━━━\u001b[0m\u001b[37m\u001b[0m \u001b[1m71s\u001b[0m 776ms/step - accuracy: 0.8586 - loss: 0.4157 - val_accuracy: 0.8575 - val_loss: 0.4544\n",
      "Epoch 21/50\n",
      "\u001b[1m92/92\u001b[0m \u001b[32m━━━━━━━━━━━━━━━━━━━━\u001b[0m\u001b[37m\u001b[0m \u001b[1m72s\u001b[0m 776ms/step - accuracy: 0.8673 - loss: 0.3903 - val_accuracy: 0.7950 - val_loss: 0.5984\n",
      "Epoch 22/50\n",
      "\u001b[1m92/92\u001b[0m \u001b[32m━━━━━━━━━━━━━━━━━━━━\u001b[0m\u001b[37m\u001b[0m \u001b[1m72s\u001b[0m 776ms/step - accuracy: 0.8764 - loss: 0.3675 - val_accuracy: 0.8046 - val_loss: 0.5673\n"
     ]
    }
   ],
   "source": [
    "from tensorflow.keras.preprocessing.image import ImageDataGenerator\n",
    "\n",
    "datagen = ImageDataGenerator(\n",
    "    rotation_range=15,\n",
    "    width_shift_range=0.1,\n",
    "    height_shift_range=0.1,\n",
    "    zoom_range=0.2,\n",
    "    horizontal_flip=True\n",
    ")\n",
    "datagen.fit(x_train)\n",
    "\n",
    "history = model.fit(\n",
    "    datagen.flow(x_train, y_train, batch_size=64),\n",
    "    epochs=50,                           # set a high cap\n",
    "    validation_data=(x_val, y_val),\n",
    "    callbacks=[early_stop],              # add early stopping\n",
    "    verbose=1\n",
    ")\n",
    "\n"
   ]
  },
  {
   "cell_type": "markdown",
   "id": "4e6a02e5",
   "metadata": {},
   "source": [
    "### Step 5:   Report Accuracy"
   ]
  },
  {
   "cell_type": "code",
   "execution_count": 46,
   "id": "8216e393",
   "metadata": {},
   "outputs": [
    {
     "name": "stdout",
     "output_type": "stream",
     "text": [
      "\u001b[1m40/40\u001b[0m \u001b[32m━━━━━━━━━━━━━━━━━━━━\u001b[0m\u001b[37m\u001b[0m \u001b[1m2s\u001b[0m 61ms/step - accuracy: 0.8599 - loss: 0.3929\n",
      "Test Accuracy: 0.860\n"
     ]
    }
   ],
   "source": [
    "loss, acc = model.evaluate(x_test, y_test, verbose=1)\n",
    "print(f\"Test Accuracy: {acc:.3f}\")"
   ]
  }
 ],
 "metadata": {
  "kernelspec": {
   "display_name": ".venv",
   "language": "python",
   "name": "python3"
  },
  "language_info": {
   "codemirror_mode": {
    "name": "ipython",
    "version": 3
   },
   "file_extension": ".py",
   "mimetype": "text/x-python",
   "name": "python",
   "nbconvert_exporter": "python",
   "pygments_lexer": "ipython3",
   "version": "3.12.3"
  }
 },
 "nbformat": 4,
 "nbformat_minor": 5
}
